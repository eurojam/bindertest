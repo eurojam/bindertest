{
 "cells": [
  {
   "cell_type": "code",
   "execution_count": 1,
   "metadata": {},
   "outputs": [
    {
     "name": "stdout",
     "output_type": "stream",
     "text": [
      "I love to work with QGIS -> Sentiment(polarity=0.5, subjectivity=0.6)\n",
      "QGIS is very slow and sometimes it crashes -> Sentiment(polarity=-0.39000000000000007, subjectivity=0.52)\n",
      "es\n",
      "I really enjoyed working with QGIS. QGIS is the best GIS in the world\n",
      "me gusto mucho trabajar con QGIS. QGIS es el mejor SIG del mundo -> Sentiment(polarity=0.0, subjectivity=0.0)\n",
      "me gusto mucho trabajar con QGIS. QGIS es el mejor SIG del mundo -> Sentiment(polarity=0.75, subjectivity=0.5)\n"
     ]
    }
   ],
   "source": [
    "#short example using textblob\n",
    "from textblob import TextBlob\n",
    "\n",
    "text = TextBlob(\"I love to work with QGIS\")\n",
    "print(text, '->', text.sentiment)\n",
    "text = TextBlob(\"QGIS is very slow and sometimes it crashes\")\n",
    "print(text, '->', text.sentiment)\n",
    "text = TextBlob(\"me gusto mucho trabajar con QGIS. QGIS es el mejor SIG del mundo\")\n",
    "print (text.detect_language())\n",
    "print (text.translate(to='en'))\n",
    "print(text, '->', text.sentiment)\n",
    "print(text, '->', text.translate(to='en').sentiment)"
   ]
  },
  {
   "cell_type": "code",
   "execution_count": 2,
   "metadata": {},
   "outputs": [],
   "source": [
    "import textblob"
   ]
  },
  {
   "cell_type": "code",
   "execution_count": 5,
   "metadata": {},
   "outputs": [
    {
     "name": "stdout",
     "output_type": "stream",
     "text": [
      "0.15.2\n"
     ]
    }
   ],
   "source": [
    "print(textblob.__version__)"
   ]
  },
  {
   "cell_type": "code",
   "execution_count": 6,
   "metadata": {},
   "outputs": [
    {
     "ename": "ModuleNotFoundError",
     "evalue": "No module named 'tensorflow'",
     "output_type": "error",
     "traceback": [
      "\u001b[1;31m---------------------------------------------------------------------------\u001b[0m",
      "\u001b[1;31mModuleNotFoundError\u001b[0m                       Traceback (most recent call last)",
      "\u001b[1;32m<ipython-input-6-d6579f534729>\u001b[0m in \u001b[0;36m<module>\u001b[1;34m\u001b[0m\n\u001b[1;32m----> 1\u001b[1;33m \u001b[1;32mimport\u001b[0m \u001b[0mtensorflow\u001b[0m\u001b[1;33m\u001b[0m\u001b[1;33m\u001b[0m\u001b[0m\n\u001b[0m",
      "\u001b[1;31mModuleNotFoundError\u001b[0m: No module named 'tensorflow'"
     ]
    }
   ],
   "source": [
    "import tensorflow"
   ]
  },
  {
   "cell_type": "code",
   "execution_count": null,
   "metadata": {},
   "outputs": [],
   "source": []
  }
 ],
 "metadata": {
  "kernelspec": {
   "display_name": "Python 3",
   "language": "python",
   "name": "python3"
  },
  "language_info": {
   "codemirror_mode": {
    "name": "ipython",
    "version": 3
   },
   "file_extension": ".py",
   "mimetype": "text/x-python",
   "name": "python",
   "nbconvert_exporter": "python",
   "pygments_lexer": "ipython3",
   "version": "3.7.1"
  }
 },
 "nbformat": 4,
 "nbformat_minor": 2
}
